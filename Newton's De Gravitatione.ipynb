{
 "cells": [
  {
   "cell_type": "markdown",
   "metadata": {},
   "source": [
    "# InPhO Topic Explorer on Newton's De Gravitatione\n",
    "## Corpi\n",
    "Because we have both the Latin and English copies of Newton's work, using _HTRC's Workset Builder 2.0_, we can select all works written in English between 1640-1727 for one corpus, and another for works written in Latin."
   ]
  },
  {
   "cell_type": "code",
   "execution_count": null,
   "metadata": {},
   "outputs": [],
   "source": [
    "!pip install matplotlib jupyter numpy Cython\n",
    "!pip install --pre topicexplorer\n",
    "!pip install htrc-feature-reader"
   ]
  },
  {
   "cell_type": "code",
   "execution_count": 1,
   "metadata": {},
   "outputs": [],
   "source": [
    "import pandas as pd\n",
    "# Convert exported JSON file to CSV\n",
    "for path in [\"eng_corpus_1640_1727\",\"lat_corpus_1640_1727\"]:\n",
    "    df = pd.read_json(path + \".json\")\n",
    "    # Randomly samples the corpus under the 3000 item limit (for analysis with InPhO algorithm)\n",
    "    df = df.sample(n = 3000)\n",
    "    df.to_csv(path + \".csv\", index = None)\n",
    "    # Cleans csv to ensure proper formatting\n",
    "    with open(path + \".csv\",'r') as f, open(path + \"_updated.csv\",'w') as f1:\n",
    "        next(f) # skip header line\n",
    "        f1.write(\"volume\")\n",
    "        for line in f:\n",
    "            f1.write(line)"
   ]
  },
  {
   "cell_type": "markdown",
   "metadata": {},
   "source": [
    "### English"
   ]
  },
  {
   "cell_type": "code",
   "execution_count": 2,
   "metadata": {},
   "outputs": [
    {
     "name": "stderr",
     "output_type": "stream",
     "text": [
      "Traceback (most recent call last):\n",
      "  File \"C:\\Users\\leobe\\Anaconda3\\envs\\UHPDiscover\\Scripts\\topicexplorer-script.py\", line 11, in <module>\n",
      "    load_entry_point('topicexplorer', 'console_scripts', 'topicexplorer')()\n",
      "  File \"c:\\users\\leobe\\topicexplorer\\topicexplorer\\__main__.py\", line 227, in main\n",
      "    args.config_file = benchmark(init.main)(args)\n",
      "  File \"c:\\users\\leobe\\topicexplorer\\topicexplorer\\init.py\", line 440, in main\n",
      "    c = htrc_features.create_corpus(ids, nltk_stop=args.nltk,freq=args.stop_freq)\n",
      "  File \"c:\\users\\leobe\\topicexplorer\\topicexplorer\\extensions\\htrc_features.py\", line 62, in create_corpus\n",
      "    paths = download_vols(ids)\n",
      "  File \"c:\\users\\leobe\\topicexplorer\\topicexplorer\\extensions\\htrc_features.py\", line 33, in download_vols\n",
      "    download_file(htids=ids, outdir=output_dir)\n",
      "  File \"C:\\Users\\leobe\\Anaconda3\\envs\\UHPDiscover\\lib\\site-packages\\htrc_features\\utils.py\", line 193, in download_file\n",
      "    response = subprocess.run(cmd, check=True, **sub_kwargs)\n",
      "  File \"C:\\Users\\leobe\\Anaconda3\\envs\\UHPDiscover\\lib\\subprocess.py\", line 488, in run\n",
      "    with Popen(*popenargs, **kwargs) as process:\n",
      "  File \"C:\\Users\\leobe\\Anaconda3\\envs\\UHPDiscover\\lib\\subprocess.py\", line 800, in __init__\n",
      "    restore_signals, start_new_session)\n",
      "  File \"C:\\Users\\leobe\\Anaconda3\\envs\\UHPDiscover\\lib\\subprocess.py\", line 1207, in _execute_child\n",
      "    startupinfo)\n",
      "FileNotFoundError: [WinError 2] The system cannot find the file specified\n"
     ]
    }
   ],
   "source": [
    "!topicexplorer init eng_corpus_1640_1727_updated.csv -q --htrc --name \"English Corpus: 1640 and 1727\""
   ]
  },
  {
   "cell_type": "markdown",
   "metadata": {},
   "source": [
    "### Latin"
   ]
  },
  {
   "cell_type": "code",
   "execution_count": 3,
   "metadata": {},
   "outputs": [
    {
     "name": "stderr",
     "output_type": "stream",
     "text": [
      "Traceback (most recent call last):\n",
      "  File \"C:\\Users\\leobe\\Anaconda3\\envs\\UHPDiscover\\Scripts\\topicexplorer-script.py\", line 11, in <module>\n",
      "    load_entry_point('topicexplorer', 'console_scripts', 'topicexplorer')()\n",
      "  File \"c:\\users\\leobe\\topicexplorer\\topicexplorer\\__main__.py\", line 227, in main\n",
      "    args.config_file = benchmark(init.main)(args)\n",
      "  File \"c:\\users\\leobe\\topicexplorer\\topicexplorer\\init.py\", line 440, in main\n",
      "    c = htrc_features.create_corpus(ids, nltk_stop=args.nltk,freq=args.stop_freq)\n",
      "  File \"c:\\users\\leobe\\topicexplorer\\topicexplorer\\extensions\\htrc_features.py\", line 62, in create_corpus\n",
      "    paths = download_vols(ids)\n",
      "  File \"c:\\users\\leobe\\topicexplorer\\topicexplorer\\extensions\\htrc_features.py\", line 33, in download_vols\n",
      "    download_file(htids=ids, outdir=output_dir)\n",
      "  File \"C:\\Users\\leobe\\Anaconda3\\envs\\UHPDiscover\\lib\\site-packages\\htrc_features\\utils.py\", line 193, in download_file\n",
      "    response = subprocess.run(cmd, check=True, **sub_kwargs)\n",
      "  File \"C:\\Users\\leobe\\Anaconda3\\envs\\UHPDiscover\\lib\\subprocess.py\", line 488, in run\n",
      "    with Popen(*popenargs, **kwargs) as process:\n",
      "  File \"C:\\Users\\leobe\\Anaconda3\\envs\\UHPDiscover\\lib\\subprocess.py\", line 800, in __init__\n",
      "    restore_signals, start_new_session)\n",
      "  File \"C:\\Users\\leobe\\Anaconda3\\envs\\UHPDiscover\\lib\\subprocess.py\", line 1207, in _execute_child\n",
      "    startupinfo)\n",
      "FileNotFoundError: [WinError 2] The system cannot find the file specified\n"
     ]
    }
   ],
   "source": [
    "!topicexplorer init lat_corpus_1640_1727_updated.csv -q --htrc --name \"Latin Corpus: 1640 and 1727\""
   ]
  }
 ],
 "metadata": {
  "kernelspec": {
   "display_name": "Python 3",
   "language": "python",
   "name": "python3"
  },
  "language_info": {
   "codemirror_mode": {
    "name": "ipython",
    "version": 3
   },
   "file_extension": ".py",
   "mimetype": "text/x-python",
   "name": "python",
   "nbconvert_exporter": "python",
   "pygments_lexer": "ipython3",
   "version": "3.7.7"
  }
 },
 "nbformat": 4,
 "nbformat_minor": 4
}
